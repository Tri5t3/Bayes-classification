{
 "cells": [
  {
   "cell_type": "code",
   "execution_count": 2,
   "source": [
    "from classify import *"
   ],
   "outputs": [],
   "metadata": {}
  },
  {
   "cell_type": "code",
   "execution_count": 3,
   "source": [
    "create_vocabulary('./EasyFiles/', 1)"
   ],
   "outputs": [
    {
     "output_type": "execute_result",
     "data": {
      "text/plain": [
       "[',',\n",
       " '.',\n",
       " '19',\n",
       " '2020',\n",
       " 'a',\n",
       " 'cat',\n",
       " 'chases',\n",
       " 'dog',\n",
       " 'february',\n",
       " 'hello',\n",
       " 'is',\n",
       " 'it',\n",
       " 'world']"
      ]
     },
     "metadata": {},
     "execution_count": 3
    }
   ],
   "metadata": {}
  },
  {
   "cell_type": "markdown",
   "source": [
    "Test 1: [',', '.', '19', '2020', 'a', 'cat', 'chases', 'dog', 'february', 'hello', 'is', 'it', 'world']"
   ],
   "metadata": {}
  },
  {
   "cell_type": "code",
   "execution_count": 4,
   "source": [
    "create_vocabulary('./EasyFiles/', 2)"
   ],
   "outputs": [
    {
     "output_type": "execute_result",
     "data": {
      "text/plain": [
       "['.', 'a']"
      ]
     },
     "metadata": {},
     "execution_count": 4
    }
   ],
   "metadata": {}
  },
  {
   "cell_type": "markdown",
   "source": [
    "Test 2: ['.', 'a']"
   ],
   "metadata": {}
  },
  {
   "cell_type": "code",
   "execution_count": 5,
   "source": [
    "vocab = create_vocabulary('./EasyFiles/', 1)\r\n",
    "create_bow(vocab, './EasyFiles/2016/1.txt')"
   ],
   "outputs": [
    {
     "output_type": "execute_result",
     "data": {
      "text/plain": [
       "{'.': 1, 'a': 2, 'cat': 1, 'chases': 1, 'dog': 1}"
      ]
     },
     "metadata": {},
     "execution_count": 5
    }
   ],
   "metadata": {}
  },
  {
   "cell_type": "markdown",
   "source": [
    "Test 3: {'a': 2, 'dog': 1, 'chases': 1, 'cat': 1, '.': 1}"
   ],
   "metadata": {}
  },
  {
   "cell_type": "code",
   "execution_count": 6,
   "source": [
    "create_bow(vocab, './EasyFiles/2020/2.txt')"
   ],
   "outputs": [
    {
     "output_type": "execute_result",
     "data": {
      "text/plain": [
       "{',': 1, '.': 1, '19': 1, '2020': 1, 'february': 1, 'is': 1, 'it': 1}"
      ]
     },
     "metadata": {},
     "execution_count": 6
    }
   ],
   "metadata": {}
  },
  {
   "cell_type": "markdown",
   "source": [
    "Test 4: {'it': 1, 'is': 1, 'february': 1, '19': 1, ',': 1, '2020': 1, '.': 1}"
   ],
   "metadata": {}
  },
  {
   "cell_type": "code",
   "execution_count": 7,
   "source": [
    "vocab = create_vocabulary('./EasyFiles/', 2)\r\n",
    "create_bow(vocab, './EasyFiles/2016/1.txt')"
   ],
   "outputs": [
    {
     "output_type": "execute_result",
     "data": {
      "text/plain": [
       "{'.': 1, 'a': 2, None: 3}"
      ]
     },
     "metadata": {},
     "execution_count": 7
    }
   ],
   "metadata": {}
  },
  {
   "cell_type": "markdown",
   "source": [
    "Test 5: {'a': 2, None: 3, '.': 1}"
   ],
   "metadata": {}
  },
  {
   "cell_type": "code",
   "execution_count": 8,
   "source": [
    "vocab = create_vocabulary('./EasyFiles/', 1)\r\n",
    "load_training_data(vocab,'./EasyFiles/')"
   ],
   "outputs": [
    {
     "output_type": "execute_result",
     "data": {
      "text/plain": [
       "[{'label': '2016', 'bow': {'hello': 1, 'world': 1}},\n",
       " {'label': '2016', 'bow': {'.': 1, 'a': 2, 'cat': 1, 'chases': 1, 'dog': 1}},\n",
       " {'label': '2020',\n",
       "  'bow': {',': 1,\n",
       "   '.': 1,\n",
       "   '19': 1,\n",
       "   '2020': 1,\n",
       "   'february': 1,\n",
       "   'is': 1,\n",
       "   'it': 1}}]"
      ]
     },
     "metadata": {},
     "execution_count": 8
    }
   ],
   "metadata": {}
  },
  {
   "cell_type": "markdown",
   "source": [
    "Test 6: [{'label': '2020', 'bow': {'it': 1, 'is': 1, 'february': 1, '19': 1, ',': 1, '2020': 1, '.': 1}},\r\n",
    "    {'label': '2016', 'bow': {'hello': 1, 'world': 1}},\r\n",
    "    {'label': '2016', 'bow': {'a': 2, 'dog': 1, 'chases': 1, 'cat': 1, '.': 1}}]"
   ],
   "metadata": {}
  },
  {
   "cell_type": "code",
   "execution_count": 9,
   "source": [
    "vocab = create_vocabulary('./corpus/training/', 2)\r\n",
    "training_data = load_training_data(vocab,'./corpus/training/')\r\n",
    "prior(training_data, ['2020', '2016'])"
   ],
   "outputs": [
    {
     "output_type": "execute_result",
     "data": {
      "text/plain": [
       "{'2020': -0.3217118210380923, '2016': -1.2906462863976693}"
      ]
     },
     "metadata": {},
     "execution_count": 9
    }
   ],
   "metadata": {}
  },
  {
   "cell_type": "markdown",
   "source": [
    "Test 7: {'2020': -0.32171182103809226, '2016': -1.2906462863976689}"
   ],
   "metadata": {}
  },
  {
   "cell_type": "code",
   "execution_count": 10,
   "source": [
    "vocab = create_vocabulary('./EasyFiles/', 1)\r\n",
    "training_data = load_training_data(vocab, './EasyFiles/')\r\n",
    "p_word_given_label(vocab, training_data, '2020')"
   ],
   "outputs": [
    {
     "output_type": "execute_result",
     "data": {
      "text/plain": [
       "{',': -2.3513752571634776,\n",
       " '.': -2.3513752571634776,\n",
       " '19': -2.3513752571634776,\n",
       " '2020': -2.3513752571634776,\n",
       " 'a': -3.044522437723423,\n",
       " 'cat': -3.044522437723423,\n",
       " 'chases': -3.044522437723423,\n",
       " 'dog': -3.044522437723423,\n",
       " 'february': -2.3513752571634776,\n",
       " 'hello': -3.044522437723423,\n",
       " 'is': -2.3513752571634776,\n",
       " 'it': -2.3513752571634776,\n",
       " 'world': -3.044522437723423,\n",
       " None: -3.044522437723423}"
      ]
     },
     "metadata": {},
     "execution_count": 10
    }
   ],
   "metadata": {}
  },
  {
   "cell_type": "markdown",
   "source": [
    "Test 8: {',': -2.3513752571634776, '.': -2.3513752571634776, '19': -2.3513752571634776, '2020': -2.3513752571634776, 'a': -3.044522437723423, 'cat': -3.044522437723423, 'chases': -3.044522437723423, 'dog': -3.044522437723423, 'february': -2.3513752571634776, 'hello': -3.044522437723423, 'is': -2.3513752571634776, 'it': -2.3513752571634776, 'world': -3.044522437723423, None: -3.044522437723423}"
   ],
   "metadata": {}
  },
  {
   "cell_type": "code",
   "execution_count": 11,
   "source": [
    "p_word_given_label(vocab, training_data, '2016')"
   ],
   "outputs": [
    {
     "output_type": "execute_result",
     "data": {
      "text/plain": [
       "{',': -3.0910424533583156,\n",
       " '.': -2.3978952727983707,\n",
       " '19': -3.0910424533583156,\n",
       " '2020': -3.0910424533583156,\n",
       " 'a': -1.9924301646902063,\n",
       " 'cat': -2.3978952727983707,\n",
       " 'chases': -2.3978952727983707,\n",
       " 'dog': -2.3978952727983707,\n",
       " 'february': -3.0910424533583156,\n",
       " 'hello': -2.3978952727983707,\n",
       " 'is': -3.0910424533583156,\n",
       " 'it': -3.0910424533583156,\n",
       " 'world': -2.3978952727983707,\n",
       " None: -3.0910424533583156}"
      ]
     },
     "metadata": {},
     "execution_count": 11
    }
   ],
   "metadata": {}
  },
  {
   "cell_type": "markdown",
   "source": [
    "Test 9: {',': -3.091042453358316, '.': -2.3978952727983707, '19': -3.091042453358316, '2020': -3.091042453358316, 'a': -1.9924301646902063, 'cat': -2.3978952727983707, 'chases': -2.3978952727983707, 'dog': -2.3978952727983707, 'february': -3.091042453358316, 'hello': -2.3978952727983707, 'is': -3.091042453358316, 'it': -3.091042453358316, 'world': -2.3978952727983707, None: -3.091042453358316}"
   ],
   "metadata": {}
  },
  {
   "cell_type": "code",
   "execution_count": 12,
   "source": [
    "vocab = create_vocabulary('./EasyFiles/', 2)\r\n",
    "training_data = load_training_data(vocab, './EasyFiles/')\r\n",
    "p_word_given_label(vocab, training_data, '2020')"
   ],
   "outputs": [
    {
     "output_type": "execute_result",
     "data": {
      "text/plain": [
       "{'.': -1.6094379124341003,\n",
       " 'a': -2.3025850929940455,\n",
       " None: -0.35667494393873245}"
      ]
     },
     "metadata": {},
     "execution_count": 12
    }
   ],
   "metadata": {}
  },
  {
   "cell_type": "markdown",
   "source": [
    "Test 10: {'.': -1.6094379124341005, 'a': -2.302585092994046, None: -0.35667494393873267}"
   ],
   "metadata": {}
  },
  {
   "cell_type": "code",
   "execution_count": 13,
   "source": [
    "p_word_given_label(vocab, training_data, '2016')"
   ],
   "outputs": [
    {
     "output_type": "execute_result",
     "data": {
      "text/plain": [
       "{'.': -1.7047480922384253, 'a': -1.2992829841302609, None: -0.6061358035703156}"
      ]
     },
     "metadata": {},
     "execution_count": 13
    }
   ],
   "metadata": {}
  },
  {
   "cell_type": "markdown",
   "source": [
    "Test 11: {'.': -1.7047480922384253, 'a': -1.2992829841302609, None: -0.6061358035703157}"
   ],
   "metadata": {}
  },
  {
   "cell_type": "code",
   "execution_count": 14,
   "source": [
    "train('./EasyFiles/', 2)"
   ],
   "outputs": [
    {
     "output_type": "execute_result",
     "data": {
      "text/plain": [
       "{'vocabulary': ['.', 'a'],\n",
       " 'log prior': {'2020': -0.916290731874155, '2016': -0.5108256237659907},\n",
       " 'log p(w|y=2016)': {'.': -1.7047480922384253,\n",
       "  'a': -1.2992829841302609,\n",
       "  None: -0.6061358035703156},\n",
       " 'log p(w|y=2020)': {'.': -1.6094379124341003,\n",
       "  'a': -2.3025850929940455,\n",
       "  None: -0.35667494393873245}}"
      ]
     },
     "metadata": {},
     "execution_count": 14
    }
   ],
   "metadata": {}
  },
  {
   "cell_type": "markdown",
   "source": [
    "Test 12: {'vocabulary': ['.', 'a'],\r\n",
    "    'log prior': {'2020': -0.916290731874155, '2016': -0.5108256237659905},\r\n",
    "    'log p(w|y=2020)': {'.': -1.6094379124341005, 'a': -2.302585092994046, None: -0.35667494393873267},\r\n",
    "    'log p(w|y=2016)': {'.': -1.7047480922384253, 'a': -1.2992829841302609, None: -0.6061358035703157}}"
   ],
   "metadata": {}
  },
  {
   "cell_type": "code",
   "execution_count": 15,
   "source": [
    "model = train('./corpus/training/', 2)\r\n",
    "classify(model, './corpus/test/2016/0.txt')"
   ],
   "outputs": [
    {
     "output_type": "execute_result",
     "data": {
      "text/plain": [
       "{'log p(y=2020|x)': -3906.351945884105,\n",
       " 'log p(y=2016|x)': -3916.458747858925,\n",
       " 'predicted y': '2020'}"
      ]
     },
     "metadata": {},
     "execution_count": 15
    }
   ],
   "metadata": {}
  },
  {
   "cell_type": "markdown",
   "source": [
    "Test 13: {'log p(y=2020|x)': -3906.351945884105, 'log p(y=2016|x)': -3916.458747858926, 'predicted y': '2020'}"
   ],
   "metadata": {}
  }
 ],
 "metadata": {
  "orig_nbformat": 4,
  "language_info": {
   "name": "python",
   "version": "3.9.7",
   "mimetype": "text/x-python",
   "codemirror_mode": {
    "name": "ipython",
    "version": 3
   },
   "pygments_lexer": "ipython3",
   "nbconvert_exporter": "python",
   "file_extension": ".py"
  },
  "kernelspec": {
   "name": "python3",
   "display_name": "Python 3.9.7 64-bit"
  },
  "interpreter": {
   "hash": "d8238f317c75f2772202101219d1bc561224774ccdf5daeb1c652a83710b959e"
  }
 },
 "nbformat": 4,
 "nbformat_minor": 2
}